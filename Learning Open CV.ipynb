{
 "cells": [
  {
   "cell_type": "markdown",
   "metadata": {},
   "source": [
    "# Learning OpenCV"
   ]
  },
  {
   "cell_type": "markdown",
   "metadata": {},
   "source": [
    "## Traditions first importing cv2"
   ]
  },
  {
   "cell_type": "code",
   "execution_count": 1,
   "metadata": {},
   "outputs": [],
   "source": [
    "import numpy as np\n",
    "import cv2"
   ]
  },
  {
   "cell_type": "markdown",
   "metadata": {},
   "source": [
    "## Reading An Image\n",
    "### Through different modes"
   ]
  },
  {
   "cell_type": "code",
   "execution_count": 18,
   "metadata": {},
   "outputs": [],
   "source": [
    "img = cv2.imread('C:\\Users\\Bhupesh\\Downloads\\unnamed.jpg',0) \n",
    "\n",
    "## loads image in Grayscale mode ,look cv2.IMREAD_GRAYSCALE \n",
    "\n",
    "img = cv2.imread('C:\\Users\\Bhupesh\\Downloads\\unnamed.jpg',1) \n",
    "\n",
    "## loads image in default(colored) mode ,look cv2.IMREAD_COLOR \n",
    "\n",
    "img = cv2.imread('C:\\Users\\Bhupesh\\Downloads\\unnamed.jpg',-1) \n",
    "\n",
    "## loads image in alpha channel mode ,look cv2.IMREAD_UNCHANGED "
   ]
  },
  {
   "cell_type": "markdown",
   "metadata": {},
   "source": [
    "## Displaying Images"
   ]
  },
  {
   "cell_type": "code",
   "execution_count": 23,
   "metadata": {},
   "outputs": [],
   "source": [
    "cv2.imshow('Learning Open CV',img) ##loads image (first argument is window name,image variable) \n",
    "cv2.waitKey(0)                      #\n",
    "cv2.destroyAllWindows()"
   ]
  },
  {
   "cell_type": "markdown",
   "metadata": {},
   "source": [
    "cv2.waitKey() \n",
    "\n",
    "is a keyboard binding function. Its argument is the time in milliseconds. The function waits for\n",
    "specified milliseconds for any keyboard event. If you press any key in that time, the program continues. If 0 is passed,\n",
    "it waits indefinitely for a key stroke. It can also be set to detect specific key strokes like, if key a is pressed etc which\n",
    "we will discuss below."
   ]
  },
  {
   "cell_type": "markdown",
   "metadata": {},
   "source": [
    "## Saving Images"
   ]
  },
  {
   "cell_type": "code",
   "execution_count": 24,
   "metadata": {},
   "outputs": [
    {
     "data": {
      "text/plain": [
       "True"
      ]
     },
     "execution_count": 24,
     "metadata": {},
     "output_type": "execute_result"
    }
   ],
   "source": [
    "cv2.imwrite('my.png',img)"
   ]
  },
  {
   "cell_type": "markdown",
   "metadata": {},
   "source": [
    "imrite is used to save an image \n",
    "cv2.imwrite('my.png',img)\n",
    "the above code will save the image img in png format in current working directory."
   ]
  },
  {
   "cell_type": "markdown",
   "metadata": {},
   "source": [
    "## Image Functions"
   ]
  },
  {
   "cell_type": "code",
   "execution_count": 25,
   "metadata": {},
   "outputs": [
    {
     "name": "stdout",
     "output_type": "stream",
     "text": [
      "(900L, 900L, 3L)\n"
     ]
    }
   ],
   "source": [
    "print img.shape"
   ]
  },
  {
   "cell_type": "markdown",
   "metadata": {},
   "source": [
    "print img.shape\n",
    "\n",
    "the above statement return a tuple of no.of rows,columns and channels of the image"
   ]
  },
  {
   "cell_type": "code",
   "execution_count": 26,
   "metadata": {},
   "outputs": [
    {
     "name": "stdout",
     "output_type": "stream",
     "text": [
      "2430000\n"
     ]
    }
   ],
   "source": [
    "print img.size"
   ]
  },
  {
   "cell_type": "markdown",
   "metadata": {},
   "source": [
    "print img.size\n",
    "\n",
    "the above statements return total no.of pixels in the image"
   ]
  },
  {
   "cell_type": "code",
   "execution_count": 45,
   "metadata": {},
   "outputs": [
    {
     "name": "stdout",
     "output_type": "stream",
     "text": [
      "uint8\n"
     ]
    }
   ],
   "source": [
    "print img.dtype"
   ]
  },
  {
   "cell_type": "markdown",
   "metadata": {},
   "source": [
    "print img.dtype\n",
    "\n",
    "the above statement returns image data type. "
   ]
  },
  {
   "cell_type": "code",
   "execution_count": null,
   "metadata": {},
   "outputs": [],
   "source": []
  }
 ],
 "metadata": {
  "kernelspec": {
   "display_name": "Python 2",
   "language": "python",
   "name": "python2"
  },
  "language_info": {
   "codemirror_mode": {
    "name": "ipython",
    "version": 2
   },
   "file_extension": ".py",
   "mimetype": "text/x-python",
   "name": "python",
   "nbconvert_exporter": "python",
   "pygments_lexer": "ipython2",
   "version": "2.7.15"
  }
 },
 "nbformat": 4,
 "nbformat_minor": 2
}
